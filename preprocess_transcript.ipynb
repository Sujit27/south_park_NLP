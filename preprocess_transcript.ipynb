{
 "cells": [
  {
   "cell_type": "code",
   "execution_count": 27,
   "metadata": {},
   "outputs": [],
   "source": [
    "import os"
   ]
  },
  {
   "cell_type": "code",
   "execution_count": 28,
   "metadata": {},
   "outputs": [],
   "source": [
    "with open(os.path.join(\"data\",\"movie_subtitles.txt\")) as f:\n",
    "    movie_subtitles = f.readlines()"
   ]
  },
  {
   "cell_type": "code",
   "execution_count": 29,
   "metadata": {},
   "outputs": [],
   "source": [
    "with open(os.path.join(\"south_park_episode_transcripts\",\"200.txt\")) as f:\n",
    "    sp_subtitles = f.readlines()"
   ]
  },
  {
   "cell_type": "code",
   "execution_count": 30,
   "metadata": {},
   "outputs": [
    {
     "data": {
      "text/plain": [
       "['Can we make this quick? Roxanne Korrine and Andrew Barrett are having an incredibly horrendous public break- up on the quad. Again.\\n',\n",
       " \"Well, I thought we'd start with pronunciation, if that's okay with you.\\n\",\n",
       " \"Well, I thought we'd start with pronunciation, if that's okay with you.\\n\",\n",
       " 'Not the hacking and gagging and spitting part. Please.\\n',\n",
       " 'Not the hacking and gagging and spitting part. Please.\\n',\n",
       " \"Okay... then how 'bout we try out some French cuisine. Saturday? Night?\\n\",\n",
       " \"You're asking me out. That's so cute. What's your name again?\\n\",\n",
       " 'Forget it.\\n',\n",
       " \"No, no, it's my fault -- we didn't have a proper introduction ---\\n\",\n",
       " 'Cameron.\\n',\n",
       " 'Cameron.\\n',\n",
       " \"The thing is, Cameron -- I'm at the mercy of a particularly hideous breed of loser. My sister. I can't date until she does.\\n\",\n",
       " \"The thing is, Cameron -- I'm at the mercy of a particularly hideous breed of loser. My sister. I can't date until she does.\\n\",\n",
       " 'Seems like she could get a date easy enough...\\n',\n",
       " 'Why?\\n',\n",
       " 'Unsolved mystery. She used to be really popular when she started high school, then it was just like she got sick of it or something.\\n',\n",
       " 'Unsolved mystery. She used to be really popular when she started high school, then it was just like she got sick of it or something.\\n',\n",
       " \"That's a shame.\\n\",\n",
       " 'Gosh, if only we could find Kat a boyfriend...\\n',\n",
       " 'Let me see what I can do.\\n']"
      ]
     },
     "execution_count": 30,
     "metadata": {},
     "output_type": "execute_result"
    }
   ],
   "source": [
    "movie_subtitles[0:20]"
   ]
  },
  {
   "cell_type": "code",
   "execution_count": 36,
   "metadata": {},
   "outputs": [
    {
     "name": "stdout",
     "output_type": "stream",
     "text": [
      "[' 200\\n', \" At fudge factory for a field trip, A tour guide shows Mr. Garrison's class around the factory\\n\", ' Tour Guide\\n', ' Our factory works 24/7 to produce candy, and we have over 500 employees. Here you can see where the cocoa is mixed with the sugar and milk.\\n', ' Cartman\\n', \" Wow, coo'.. [snaps a picture] Chocolate rules!\\n\", ' Kyle\\n', ' You should know, fatass.\\n', ' Cartman\\n', \" AY! I'm not fat, you sneaky Jew!\\n\", ' Stan\\n', ' Oh God, you guys, really? This again? [the students all move to the next spot in the tour]\\n', ' Tour Guide\\n', ' And here is where all the fudge is put into boxes to be shipped all over the world.\\n', ' Kyle\\n', \" Kinda like Cartman's dad shipped out on him.\\n\", ' Cartman\\n', ' I have a dad, butthole. My mom is my dad.\\n', ' Stan\\n', \" You guys, stop! All you're doing is rehashing a bunch of old stuff! [everyone moves on except Butters, who spots something]\\n\", ' Butters\\n', \" Hey, Stan, isn't that Tom Cruise?\\n\", ' Stan\\n', ' Huh? [Tom Cruise is packing fudge into boxes with a hat pulled low over his face] Oh, wow it is! Hey, guys, check it out. Tom Cruise is a fudge packer!\\n', ' Tom Cruise\\n', ' What did you call me?\\n', ' Cartman\\n', ' Hey, that is Tom Cruise! [snaps a picture]\\n', ' Butters\\n', \" How come you're packin' fudge, Mr. Cruise?\\n\", ' Tom Cruise\\n', \" I'm not a fudge packer!\\n\", ' Kyle\\n', \" Dude, you don't have to be ashamed or anything.\\n\", ' Tom Cruise\\n', \" But I'm not a fudge packer! [packs a block of fudge into a box]\\n\", ' Stan\\n', ' Then why are you packing fudge?\\n', ' Tom Cruise\\n', \" I'm not. I am a very busy actor who is trying to get away for a week and do some fly fishing! [pushes more fudge into boxes]\\n\", ' Stan\\n', ' Dude, you are in a fudge factory packing fudge.\\n', ' Tom Cruise\\n', ' Oh, that does it. I will SUE you!\\n', ' Stan\\n', ' For what?\\n', ' Tom Cruise\\n', \" You can't just call somebody a fudge packer and get away with it! [Mr. Garrison walks over]\\n\", ' Mr. Garrison\\n', ' Hey, is that fudge-packer Tom Cruise?\\n']\n"
     ]
    }
   ],
   "source": [
    "sp_subtitles_mod = [line for line in sp_subtitles if line != '\\n']\n",
    "print(sp_subtitles_mod[0:50])"
   ]
  },
  {
   "cell_type": "code",
   "execution_count": null,
   "metadata": {},
   "outputs": [],
   "source": []
  },
  {
   "cell_type": "code",
   "execution_count": null,
   "metadata": {},
   "outputs": [],
   "source": []
  }
 ],
 "metadata": {
  "kernelspec": {
   "display_name": "Python 3",
   "language": "python",
   "name": "python3"
  },
  "language_info": {
   "codemirror_mode": {
    "name": "ipython",
    "version": 3
   },
   "file_extension": ".py",
   "mimetype": "text/x-python",
   "name": "python",
   "nbconvert_exporter": "python",
   "pygments_lexer": "ipython3",
   "version": "3.5.3"
  }
 },
 "nbformat": 4,
 "nbformat_minor": 4
}
