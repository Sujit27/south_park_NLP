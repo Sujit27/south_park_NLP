{
 "cells": [
  {
   "cell_type": "code",
   "execution_count": 262,
   "metadata": {},
   "outputs": [],
   "source": [
    "import os\n",
    "from load import loadPrepareData\n",
    "import random\n",
    "from nltk.tag import pos_tag\n",
    "import re\n",
    "import string"
   ]
  },
  {
   "cell_type": "code",
   "execution_count": 263,
   "metadata": {},
   "outputs": [],
   "source": [
    "# def find_nouns(sent):\n",
    "#     tagged_sent = pos_tag(sent.split())\n",
    "#     propernouns = [word for word,pos in tagged_sent if pos == 'NNP']\n",
    "#     return propernouns"
   ]
  },
  {
   "cell_type": "code",
   "execution_count": 264,
   "metadata": {},
   "outputs": [],
   "source": [
    "def is_character_name(sent):\n",
    "#     x = sent.split(\" \")[1:]\n",
    "#     punctuation = ['.','?','!','-',',','']\n",
    "    last_char = sent[-2]\n",
    "    size = len(sent)\n",
    "    if (last_char not in string.punctuation) and (last_char !=\" \") and size < 20:\n",
    "        return True\n",
    "    else:\n",
    "        return False"
   ]
  },
  {
   "cell_type": "code",
   "execution_count": 265,
   "metadata": {},
   "outputs": [],
   "source": [
    "# is_character_name(\"Yo mama so big, the sun hides when she walks\")"
   ]
  },
  {
   "cell_type": "code",
   "execution_count": 266,
   "metadata": {},
   "outputs": [],
   "source": [
    "def remove_non_dialogue(transcript):\n",
    "    transcript_mod = []\n",
    "    for index,sent in enumerate(transcript):\n",
    "        if sent == \"\\n\" or sent == \" \\n\":\n",
    "            continue\n",
    "        if (is_character_name(sent)) and (index+1 < len(transcript)):\n",
    "            transcript_mod.append(transcript[index+1])\n",
    "#             print(sent)\n",
    "            \n",
    "    return transcript_mod"
   ]
  },
  {
   "cell_type": "code",
   "execution_count": 267,
   "metadata": {},
   "outputs": [],
   "source": [
    "# def remove_character_names(transcript):\n",
    "#     new_transcript = []\n",
    "#     for sent in transcript:\n",
    "#         if sent_is_character_name(sent):\n",
    "#             pass\n",
    "#         else:\n",
    "#             new_transcript.append(sent)\n",
    "            \n",
    "#     return new_transcript"
   ]
  },
  {
   "cell_type": "code",
   "execution_count": 268,
   "metadata": {},
   "outputs": [],
   "source": [
    "def remove_brackets(transcript):\n",
    "    new_transcript = []\n",
    "    for sent in transcript:\n",
    "        sent = re.sub(r'\\[.*\\]', '', sent)\n",
    "        sent = re.sub(r'\\(.*\\)', '', sent)\n",
    "        new_transcript.append(sent)\n",
    "        \n",
    "    return new_transcript"
   ]
  },
  {
   "cell_type": "code",
   "execution_count": 269,
   "metadata": {},
   "outputs": [],
   "source": [
    "# def clean_transcript(transcript):\n",
    "#     transcript_mod = [line for line in transcript if line != '\\n'][1:]\n",
    "# #     transcript_mod = remove_character_names(transcript_mod)\n",
    "#     transcript_mod = remove_brackets(transcript_mod)\n",
    "#     transcript_mod = remove_non_dialogue(transcript_mod)\n",
    "    \n",
    "    \n",
    "#     return transcript_mod"
   ]
  },
  {
   "cell_type": "code",
   "execution_count": 270,
   "metadata": {},
   "outputs": [],
   "source": [
    "def open_transcript(transcript_file):\n",
    "    with open(transcript_file) as f:\n",
    "        transcript = f.readlines()\n",
    "    \n",
    "    return transcript"
   ]
  },
  {
   "cell_type": "code",
   "execution_count": 271,
   "metadata": {},
   "outputs": [],
   "source": [
    "movie_corpus = \"data/movie_subtitles.txt\""
   ]
  },
  {
   "cell_type": "code",
   "execution_count": 272,
   "metadata": {},
   "outputs": [],
   "source": [
    "data_dir = \"south_park_episode_transcripts\"\n",
    "transcript_files = [f for f in os.listdir(data_dir) if os.path.isfile(os.path.join(data_dir, f))]\n",
    "# print(\"There are {} transcript files in the directory\".format(len(transcript_files)))\n",
    "combined_clean_transcript = []\n",
    "for transcript_file in transcript_files:\n",
    "    transcript = open_transcript(os.path.join(data_dir,transcript_file))\n",
    "#     transcript = clean_transcript(transcript)\n",
    "    transcript = [line for line in transcript if line != '\\n'][1:]\n",
    "    transcript = remove_brackets(transcript)\n",
    "    transcript = remove_non_dialogue(transcript)\n",
    "    combined_clean_transcript.append(transcript)\n",
    "#     break\n",
    "    \n",
    "    \n",
    "combined_clean_transcript = [sent for chapter in combined_clean_transcript for sent in chapter] # flatten the list and remove first space\n",
    "combined_clean_transcript = [sent for sent in combined_clean_transcript if sent !=\"\\n\" and sent !=\" \\n\"]\n",
    "if len(combined_clean_transcript)%2 == 1:\n",
    "    combined_clean_transcript.pop()"
   ]
  },
  {
   "cell_type": "code",
   "execution_count": 273,
   "metadata": {},
   "outputs": [
    {
     "data": {
      "text/plain": [
       "72374"
      ]
     },
     "execution_count": 273,
     "metadata": {},
     "output_type": "execute_result"
    }
   ],
   "source": [
    "len(combined_clean_transcript)"
   ]
  },
  {
   "cell_type": "code",
   "execution_count": 274,
   "metadata": {},
   "outputs": [],
   "source": [
    "# # print(combined_clean_transcript)\n",
    "# for item in combined_clean_transcript:\n",
    "#     print(item)"
   ]
  },
  {
   "cell_type": "code",
   "execution_count": 275,
   "metadata": {},
   "outputs": [
    {
     "data": {
      "text/plain": [
       "72374"
      ]
     },
     "execution_count": 275,
     "metadata": {},
     "output_type": "execute_result"
    }
   ],
   "source": [
    "len(combined_clean_transcript)"
   ]
  },
  {
   "cell_type": "code",
   "execution_count": 276,
   "metadata": {},
   "outputs": [
    {
     "name": "stdout",
     "output_type": "stream",
     "text": [
      " We'll just have to give them more time. They'll do it!\n",
      "\n",
      " Fuck you! If you people wanna turn somethin' into a vibrant arts district, then do it to Randy's house!\n",
      "\n",
      " It's a way easier game. All you do is run around a magical forest and shoot simulated heroin. You could call it the ultimate first-person shooter.\n",
      "\n",
      " He won't listen to us, but he would listen to- Gordon Ramsay.\n",
      "\n",
      " Who are the corporations?\n",
      "\n"
     ]
    }
   ],
   "source": [
    "rand_sent = random.sample(combined_clean_transcript,5)\n",
    "for item in rand_sent:\n",
    "    print(item)"
   ]
  },
  {
   "cell_type": "code",
   "execution_count": 277,
   "metadata": {},
   "outputs": [],
   "source": [
    "with open(os.path.join('data',\"south_park_subtitles.txt\"),'w') as f:\n",
    "    for sent in combined_clean_transcript:\n",
    "        f.write('%s' %sent)"
   ]
  },
  {
   "cell_type": "code",
   "execution_count": 278,
   "metadata": {},
   "outputs": [],
   "source": [
    "corpus = 'data/south_park_subtitles.txt'"
   ]
  },
  {
   "cell_type": "code",
   "execution_count": 279,
   "metadata": {},
   "outputs": [
    {
     "name": "stdout",
     "output_type": "stream",
     "text": [
      "Start loading training data ...\n"
     ]
    }
   ],
   "source": [
    "voc, pairs = loadPrepareData(corpus)"
   ]
  },
  {
   "cell_type": "code",
   "execution_count": 280,
   "metadata": {},
   "outputs": [
    {
     "name": "stdout",
     "output_type": "stream",
     "text": [
      "['Cop Drama will return after these messages.', 'Jesus Christ! Another commercial? Are they ever gonna say \"shit?\"']\n",
      "[\"Well, I've never seen anything like this. What do you think, principal?\", 'Well, whatever happened to him happened at the planetarium.']\n",
      "['Hello, children. Ready for lunch?', 'Eric, is there a problem?']\n",
      "[\"Alrighty then, looks like we're ready.\", 'Orchestra stage. Everyone is present and ready to play.']\n",
      "[\"I told you to leave me alone, Mackey!  I'm not in the mood!\", 'But, but sir, the president elect is here.']\n"
     ]
    }
   ],
   "source": [
    "rand_pairs = random.sample(pairs,5)\n",
    "for item in rand_pairs:\n",
    "    print(item)"
   ]
  },
  {
   "cell_type": "code",
   "execution_count": 281,
   "metadata": {},
   "outputs": [
    {
     "name": "stdout",
     "output_type": "stream",
     "text": [
      "37079\n"
     ]
    }
   ],
   "source": [
    "print(voc.n_words)"
   ]
  },
  {
   "cell_type": "code",
   "execution_count": null,
   "metadata": {},
   "outputs": [],
   "source": []
  }
 ],
 "metadata": {
  "kernelspec": {
   "display_name": "Python 3",
   "language": "python",
   "name": "python3"
  },
  "language_info": {
   "codemirror_mode": {
    "name": "ipython",
    "version": 3
   },
   "file_extension": ".py",
   "mimetype": "text/x-python",
   "name": "python",
   "nbconvert_exporter": "python",
   "pygments_lexer": "ipython3",
   "version": "3.5.3"
  }
 },
 "nbformat": 4,
 "nbformat_minor": 4
}
